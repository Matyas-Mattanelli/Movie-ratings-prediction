{
 "cells": [
  {
   "cell_type": "code",
   "execution_count": 45,
   "metadata": {},
   "outputs": [],
   "source": [
    "import pandas as pd\n",
    "import matplotlib.pyplot as plt\n",
    "\n",
    "from sklearn.metrics import mean_absolute_error\n",
    "from sklearn.pipeline import Pipeline\n",
    "from sklearn.preprocessing import StandardScaler\n",
    "from sklearn.preprocessing import PolynomialFeatures\n",
    "from sklearn.model_selection import GridSearchCV"
   ]
  },
  {
   "cell_type": "markdown",
   "metadata": {},
   "source": [
    "# Load data"
   ]
  },
  {
   "cell_type": "code",
   "execution_count": 2,
   "metadata": {},
   "outputs": [],
   "source": [
    "# Load data\n",
    "df = pd.read_csv('processed_data.csv', sep=';')"
   ]
  },
  {
   "cell_type": "code",
   "execution_count": 3,
   "metadata": {},
   "outputs": [],
   "source": [
    "# Specify predictor variables\n",
    "pred_vars = list(set(df.columns) - set(['Number of ratings', 'Number of fans', 'Ratings', 'Train']))\n"
   ]
  },
  {
   "cell_type": "code",
   "execution_count": 4,
   "metadata": {},
   "outputs": [],
   "source": [
    "# Specify train and test set\n",
    "X_train = df.loc[df['Train'] == 1, pred_vars]\n",
    "y_train = df.loc[df['Train'] == 1, 'Ratings']\n",
    "X_test = df.loc[df['Train'] == 0, pred_vars]\n",
    "y_test = df.loc[df['Train'] == 0, 'Ratings']"
   ]
  },
  {
   "cell_type": "code",
   "execution_count": 5,
   "metadata": {},
   "outputs": [
    {
     "name": "stdout",
     "output_type": "stream",
     "text": [
      "(38212, 200)\n",
      "(9554, 200)\n"
     ]
    }
   ],
   "source": [
    "# Check shapes\n",
    "print(X_train.shape)\n",
    "print(X_test.shape)"
   ]
  },
  {
   "cell_type": "markdown",
   "metadata": {},
   "source": [
    "# Grid search function"
   ]
  },
  {
   "cell_type": "code",
   "execution_count": 34,
   "metadata": {},
   "outputs": [],
   "source": [
    "# Define a function performing a grid search for a given classifier\n",
    "def grid_search(classifier, params):\n",
    "    # Fit the grid search\n",
    "    model = GridSearchCV(classifier, params, scoring='neg_mean_absolute_error', n_jobs=3, cv=5, verbose=4)\n",
    "    model.fit(X_train, y_train)\n",
    "\n",
    "    # Evaluate on the test set\n",
    "    print(f'Best parameters: {model.best_params_}')\n",
    "    print(f'Test set MAE: {mean_absolute_error(y_test, model.best_estimator_.predict(X_test))}')\n",
    "\n",
    "    # Return search results\n",
    "    return model.cv_results_"
   ]
  },
  {
   "cell_type": "markdown",
   "metadata": {},
   "source": [
    "# Linear regression"
   ]
  },
  {
   "cell_type": "code",
   "execution_count": 27,
   "metadata": {},
   "outputs": [
    {
     "name": "stdout",
     "output_type": "stream",
     "text": [
      "12.360179056073731\n"
     ]
    }
   ],
   "source": [
    "# Linear regression\n",
    "from sklearn.linear_model import LinearRegression\n",
    "\n",
    "# Fit the model\n",
    "linear_regression = LinearRegression()\n",
    "linear_regression.fit(X_train, y_train)\n",
    "\n",
    "# Score the model\n",
    "print(mean_absolute_error(y_test, linear_regression.predict(X_test)))"
   ]
  },
  {
   "cell_type": "markdown",
   "metadata": {},
   "source": [
    "# Lasso"
   ]
  },
  {
   "cell_type": "code",
   "execution_count": 35,
   "metadata": {},
   "outputs": [
    {
     "name": "stdout",
     "output_type": "stream",
     "text": [
      "Fitting 5 folds for each of 6 candidates, totalling 30 fits\n",
      "Best parameters: {'model__alpha': 100, 'poly__degree': 1}\n",
      "Test set MAE: 11.467982453958646\n"
     ]
    }
   ],
   "source": [
    "# Lasso\n",
    "from sklearn.linear_model import Lasso\n",
    "\n",
    "# Perform grid search\n",
    "lasso = Pipeline([('scaler', StandardScaler()), ('poly', PolynomialFeatures()), ('model', Lasso())])\n",
    "lasso_params = {'poly__degree':[1, 2], 'model__alpha':[100, 200, 500]}\n",
    "lasso_res = grid_search(lasso, lasso_params)"
   ]
  },
  {
   "cell_type": "code",
   "execution_count": 21,
   "metadata": {},
   "outputs": [
    {
     "name": "stdout",
     "output_type": "stream",
     "text": [
      "12.393523583169907\n"
     ]
    }
   ],
   "source": [
    "# Ridge\n",
    "from sklearn.linear_model import Ridge\n",
    "\n",
    "ridge = Pipeline([('scaler', StandardScaler()), ('poly', PolynomialFeatures()), ('model', Ridge())])\n",
    "ridge_params = {'poly__degree':[1, 2], 'model__alpha':[100, 200, 500]}\n",
    "ridge_res = grid_search(ridge, ridge_params)"
   ]
  },
  {
   "cell_type": "markdown",
   "metadata": {},
   "source": [
    "# SVM"
   ]
  },
  {
   "cell_type": "code",
   "execution_count": 42,
   "metadata": {},
   "outputs": [
    {
     "name": "stdout",
     "output_type": "stream",
     "text": [
      "10.803186312231814\n"
     ]
    }
   ],
   "source": [
    "from sklearn.svm import SVR\n",
    "\n",
    "svr = Pipeline([('scaler', StandardScaler()), ('model', SVR(C=0.1))])\n",
    "svr.fit(X_train, y_train)\n",
    "\n",
    "# Score the model\n",
    "print(mean_absolute_error(y_test, svr.predict(X_test)))"
   ]
  },
  {
   "cell_type": "markdown",
   "metadata": {},
   "source": [
    "# Random Forest"
   ]
  },
  {
   "cell_type": "code",
   "execution_count": 41,
   "metadata": {},
   "outputs": [
    {
     "name": "stdout",
     "output_type": "stream",
     "text": [
      "12.664197924350963\n"
     ]
    }
   ],
   "source": [
    "from sklearn.ensemble import RandomForestRegressor\n",
    "\n",
    "randomforest = RandomForestRegressor(random_state=42, max_depth=30, n_estimators=500)\n",
    "randomforest.fit(X_train, y_train)\n",
    "\n",
    "# Score the model\n",
    "print(mean_absolute_error(y_test, randomforest.predict(X_test)))"
   ]
  },
  {
   "cell_type": "markdown",
   "metadata": {},
   "source": [
    "# MLP"
   ]
  },
  {
   "cell_type": "code",
   "execution_count": 40,
   "metadata": {},
   "outputs": [
    {
     "name": "stdout",
     "output_type": "stream",
     "text": [
      "12.391552231056913\n"
     ]
    }
   ],
   "source": [
    "from sklearn.neural_network import MLPRegressor\n",
    "\n",
    "mlp = Pipeline([('scaler', StandardScaler()), ('model', MLPRegressor(alpha=0.1))])\n",
    "mlp.fit(X_train, y_train)\n",
    "\n",
    "# Score the model\n",
    "print(mean_absolute_error(y_test, mlp.predict(X_test)))"
   ]
  },
  {
   "cell_type": "markdown",
   "metadata": {},
   "source": [
    "# Plot results"
   ]
  },
  {
   "cell_type": "code",
   "execution_count": 57,
   "metadata": {},
   "outputs": [],
   "source": [
    "# Store performance\n",
    "performance = [12.36, 11.47, 12.39, 10.8, 12.66, 12.39, 9.16]\n",
    "classifiers = ['Linear regression', 'Lasso', 'Ridge', 'SVM', 'Random Forest', 'MLP', 'Preview model']\n",
    "performance = pd.Series(performance, index=classifiers).sort_values(ascending=False)"
   ]
  },
  {
   "cell_type": "code",
   "execution_count": 60,
   "metadata": {},
   "outputs": [
    {
     "data": {
      "image/png": "[encoded data removed]",
      "text/plain": [
       "<Figure size 640x480 with 1 Axes>"
      ]
     },
     "metadata": {},
     "output_type": "display_data"
    }
   ],
   "source": [
    "# Plot performance\n",
    "performance.plot.barh(color='red', title='MAE on the test set', xlabel='MAE', xlim=(0, 15))\n",
    "for ind in range(performance.shape[0]):\n",
    "    plt.text(performance.iloc[ind]+0.1, ind, str(performance.iloc[ind]), va='center')"
   ]
  }
 ],
 "metadata": {
  "kernelspec": {
   "display_name": "datamin",
   "language": "python",
   "name": "python3"
  },
  "language_info": {
   "codemirror_mode": {
    "name": "ipython",
    "version": 3
   },
   "file_extension": ".py",
   "mimetype": "text/x-python",
   "name": "python",
   "nbconvert_exporter": "python",
   "pygments_lexer": "ipython3",
   "version": "3.12.2"
  }
 },
 "nbformat": 4,
 "nbformat_minor": 2
}
